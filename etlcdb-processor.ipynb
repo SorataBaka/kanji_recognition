{
 "cells": [
  {
   "cell_type": "code",
   "execution_count": 36,
   "metadata": {},
   "outputs": [],
   "source": [
    "MAIN_DIRECTORY = \"./assets/ETL9G\"\n",
    "OUTPUT_DIRECTORY = \"./assets/ETL9G_OUTPUT\""
   ]
  },
  {
   "cell_type": "markdown",
   "metadata": {},
   "source": [
    "A single CSV file contains multiple images and multiple txt files. For that reason, use csv file names as a standard"
   ]
  },
  {
   "cell_type": "code",
   "execution_count": 9,
   "metadata": {},
   "outputs": [],
   "source": [
    "import os\n",
    "csv_directory = os.listdir(MAIN_DIRECTORY + \"/csv\")\n",
    "ETL9G_FILES = [file_name.split(\".\")[0] for file_name in csv_directory]\n",
    "ETL9G_FILES.sort()"
   ]
  },
  {
   "cell_type": "code",
   "execution_count": 13,
   "metadata": {},
   "outputs": [],
   "source": [
    "def retrieve_images(file_number):\n",
    "  img_directory = os.listdir(MAIN_DIRECTORY + \"/png\")\n",
    "  img_directory = [file_name for file_name in img_directory if file_name.startswith(file_number)]\n",
    "  return img_directory"
   ]
  },
  {
   "cell_type": "code",
   "execution_count": null,
   "metadata": {},
   "outputs": [],
   "source": [
    "def retrieve_text(file_number):\n",
    "  txt_directory = os.listdir(MAIN_DIRECTORY + \"/txt\")\n",
    "  txt_directory = [file_name for file_name in txt_directory if file_name.startswith(file_number)]\n",
    "  return txt_directory"
   ]
  },
  {
   "cell_type": "code",
   "execution_count": 74,
   "metadata": {},
   "outputs": [],
   "source": [
    "from PIL import Image\n",
    "def split_images(image_file_name):\n",
    "  file_name = image_file_name.split(\".\")[0]\n",
    "  with open(MAIN_DIRECTORY + \"/txt/\" + file_name + \".txt\", \"r\") as file:\n",
    "    lines = file.readlines()\n",
    "  lines = [line.split(\"\\n\")[0] for line in lines]\n",
    "  height = len(lines)\n",
    "  width = len(lines[0])\n",
    "  image = Image.open(MAIN_DIRECTORY + \"/png/\" +  image_file_name)\n",
    "  image_width, image_height = image.size\n",
    "  tile_width = image_width // width\n",
    "  tile_height = image_height // height\n",
    "  \n",
    "  tiles = []\n",
    "  \n",
    "  for row in range(height):\n",
    "    tile_row = []\n",
    "    for col in range(width):\n",
    "      left = col * tile_width\n",
    "      upper = row * tile_height\n",
    "      right = left + tile_width\n",
    "      lower = upper + tile_height\n",
    "      \n",
    "      cropped = image.crop((left, upper, right, lower))\n",
    "      tile_row.append(cropped)\n",
    "    tiles.append(tile_row)\n",
    "  lines = [list(line) for line in lines]\n",
    "  return (tiles, lines)\n",
    "  "
   ]
  },
  {
   "cell_type": "code",
   "execution_count": 60,
   "metadata": {},
   "outputs": [],
   "source": [
    "import csv\n",
    "class Kanji:\n",
    "    def __init__(self, serial_sheet, jis_code, jis_reading, serial_data, evaluation_image, \n",
    "                 evaluation_group, male_female, age_writer, industry_classification, \n",
    "                 gathering_date, scanning_date, pos_x, pos_y):\n",
    "      self.serial_sheet = serial_sheet\n",
    "      self.jis_code = jis_code\n",
    "      self.jis_reading = jis_reading\n",
    "      self.serial_data = serial_data\n",
    "      self.evaluation_image = evaluation_image\n",
    "      self.evaluation_group = evaluation_group\n",
    "      self.male_female = male_female\n",
    "      self.age_writer = age_writer\n",
    "      self.industry_classification = industry_classification\n",
    "      self.gathering_date = gathering_date\n",
    "      self.scanning_date = scanning_date\n",
    "      self.pos_x = pos_x\n",
    "      self.pos_y = pos_y\n",
    "    \n",
    "def read_csv(csv_file_name):\n",
    "  Kanjis = []\n",
    "  with open(MAIN_DIRECTORY + \"/csv/\" + csv_file_name) as file:\n",
    "    reader  = csv.DictReader(file)\n",
    "    for row in reader:\n",
    "      kanji = Kanji(\n",
    "          serial_sheet=int(row['Serial Sheet Number']),\n",
    "          jis_code=row['JIS Kanji Code'],\n",
    "          jis_reading=row['JIS Typical Reading'],\n",
    "          serial_data=row['Serial Data Number'],\n",
    "          evaluation_image=row['Evaluation of Individual Character Image'],\n",
    "          evaluation_group=row['Evaluation of Character Group'],\n",
    "          male_female=row['Male-Female Code'],\n",
    "          age_writer=int(row['Age of Writer']),  # Assuming 'age_writer' is numeric\n",
    "          industry_classification=row['Industry Classification Code'],\n",
    "          gathering_date=row['Sheet Gatherring Date'],  # Ensure it's in the correct format (date parsing can be done if needed)\n",
    "          scanning_date=row['Scanning Date'],  # Ensure it's in the correct format (date parsing can be done if needed)\n",
    "          pos_x=int(row['Sample Position X on Sheet']),  # Assuming x and y are integers\n",
    "          pos_y=int(row['Sample Position Y on Sheet'])   # Same for y position\n",
    "          )\n",
    "      Kanjis.append(kanji)\n",
    "  return Kanjis"
   ]
  },
  {
   "cell_type": "code",
   "execution_count": null,
   "metadata": {},
   "outputs": [],
   "source": [
    "images = retrieve_images(ETL9G_FILES[0])\n",
    "for image in images:\n",
    "  tiles, lines = split_images(image)\n",
    "  for i in range(len(lines)):\n",
    "    for j in range(len(lines[i])):\n",
    "      tiles[i][j].save(OUTPUT_DIRECTORY + \"/\" + lines[i][j] + \".png\")"
   ]
  }
 ],
 "metadata": {
  "kernelspec": {
   "display_name": "Python 3",
   "language": "python",
   "name": "python3"
  },
  "language_info": {
   "codemirror_mode": {
    "name": "ipython",
    "version": 3
   },
   "file_extension": ".py",
   "mimetype": "text/x-python",
   "name": "python",
   "nbconvert_exporter": "python",
   "pygments_lexer": "ipython3",
   "version": "3.10.14"
  }
 },
 "nbformat": 4,
 "nbformat_minor": 2
}
